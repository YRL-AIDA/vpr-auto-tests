{
 "cells": [
  {
   "cell_type": "code",
   "execution_count": null,
   "id": "c102302e-987c-45b7-b6b8-098092a789d2",
   "metadata": {},
   "outputs": [],
   "source": [
    "pip install prettytable"
   ]
  },
  {
   "cell_type": "code",
   "execution_count": null,
   "id": "b3b5fdf8-cfd8-4895-9910-358d0a2e6ff3",
   "metadata": {},
   "outputs": [],
   "source": [
    "pip install timm"
   ]
  },
  {
   "cell_type": "code",
   "execution_count": null,
   "id": "88d9f899-8478-4e69-8bf1-ec18374fb0ad",
   "metadata": {},
   "outputs": [],
   "source": [
    "pip install ipywidgets"
   ]
  },
  {
   "cell_type": "code",
   "execution_count": 1,
   "id": "e90acf0b-2674-4135-ac9e-94f7b51ac0af",
   "metadata": {},
   "outputs": [],
   "source": [
    "import sys\n",
    "#sys.path.append('..') # append parent directory, we need it\n",
    "import pytorch_lightning as pl\n",
    "from pytorch_lightning.callbacks import ModelCheckpoint\n",
    "from torch.optim import lr_scheduler\n",
    "import utils\n",
    "\n",
    "import torch\n",
    "from torch.utils.data import Dataset, DataLoader\n",
    "import torchvision.transforms as T\n",
    "import matplotlib.pyplot as plt\n",
    "import numpy as np\n",
    "from tqdm.notebook import tqdm\n",
    "from utils.validation import get_validation_recalls\n",
    "from models import helper\n"
   ]
  },
  {
   "cell_type": "code",
   "execution_count": 5,
   "id": "0cc4f674-4ad6-493b-8cff-445dd9b83baa",
   "metadata": {},
   "outputs": [
    {
     "data": {
      "text/plain": [
       "['/home/sunveil/anaconda3/envs/boq/lib/python312.zip',\n",
       " '/home/sunveil/anaconda3/envs/boq/lib/python3.12',\n",
       " '/home/sunveil/anaconda3/envs/boq/lib/python3.12/lib-dynload',\n",
       " '',\n",
       " '/home/sunveil/anaconda3/envs/boq/lib/python3.12/site-packages',\n",
       " '..',\n",
       " '/home/sunveil/anaconda3/envs/boq/lib/python3.12/site-packages/setuptools/_vendor',\n",
       " '/tmp/tmp26nlz7kf']"
      ]
     },
     "execution_count": 5,
     "metadata": {},
     "output_type": "execute_result"
    }
   ],
   "source": [
    "sys.path"
   ]
  },
  {
   "cell_type": "code",
   "execution_count": 2,
   "id": "48e71562-f843-4c00-b9b4-d843cc4bcf2b",
   "metadata": {},
   "outputs": [],
   "source": [
    "import models"
   ]
  },
  {
   "cell_type": "code",
   "execution_count": 7,
   "id": "6a694a76-e64a-4057-beb9-c87a576fa609",
   "metadata": {},
   "outputs": [
    {
     "ename": "AttributeError",
     "evalue": "module 'models' has no attribute 'helper'",
     "output_type": "error",
     "traceback": [
      "\u001b[0;31m---------------------------------------------------------------------------\u001b[0m",
      "\u001b[0;31mAttributeError\u001b[0m                            Traceback (most recent call last)",
      "Cell \u001b[0;32mIn[7], line 1\u001b[0m\n\u001b[0;32m----> 1\u001b[0m models\u001b[38;5;241m.\u001b[39mhelper\n",
      "\u001b[0;31mAttributeError\u001b[0m: module 'models' has no attribute 'helper'"
     ]
    }
   ],
   "source": []
  },
  {
   "cell_type": "code",
   "execution_count": 17,
   "id": "30bbba1e-359a-44d5-928f-1f03d704e18e",
   "metadata": {},
   "outputs": [],
   "source": [
    "\n",
    "\n",
    "class VPRModel(pl.LightningModule):\n",
    "    \"\"\"This is the main model for Visual Place Recognition\n",
    "    we use Pytorch Lightning for modularity purposes.\n",
    "    \"\"\"\n",
    "\n",
    "    def __init__(self,\n",
    "                #---- Backbone\n",
    "                backbone_arch='resnet50',\n",
    "                pretrained=True,\n",
    "                layers_to_freeze=1,\n",
    "                layers_to_crop=[],\n",
    "                normalize = True,\n",
    "                 \n",
    "                #---- Aggregator\n",
    "                agg_arch='ConvAP', #CosPlace, NetVLAD, GeM, AVG\n",
    "                agg_config={},\n",
    "\n",
    "                faiss_gpu=False\n",
    "                 ):\n",
    "        super().__init__()\n",
    "        self.encoder_arch = backbone_arch\n",
    "        self.pretrained = pretrained\n",
    "        self.layers_to_freeze = layers_to_freeze\n",
    "        self.layers_to_crop = layers_to_crop\n",
    "\n",
    "        self.agg_arch = agg_arch\n",
    "        self.agg_config = agg_config\n",
    "\n",
    "        self.faiss_gpu = faiss_gpu\n",
    "        \n",
    "        # ----------------------------------\n",
    "        # get the backbone and the aggregator\n",
    "        self.backbone = helper.get_backbone(backbone_arch, pretrained, layers_to_freeze, layers_to_crop, normalize)\n",
    "        self.aggregator = helper.get_aggregator(agg_arch, agg_config)\n",
    "        \n",
    "    # the forward pass of the lightning model\n",
    "    def forward(self, x):\n",
    "        x = self.backbone(x)\n",
    "        x = self.aggregator(x)\n",
    "        return x\n",
    "    \n",
    "    "
   ]
  },
  {
   "cell_type": "code",
   "execution_count": 18,
   "id": "1c0862e2-e4a0-4622-9b66-b33a8d59887b",
   "metadata": {},
   "outputs": [],
   "source": [
    "MEAN=[0.485, 0.456, 0.406]; STD=[0.229, 0.224, 0.225]\n",
    "\n",
    "IM_SIZE = (322, 322)\n",
    "\n",
    "def input_transform(image_size=IM_SIZE):\n",
    "    return T.Compose([\n",
    "         T.Resize(image_size, interpolation=T.InterpolationMode.BICUBIC),\n",
    "\t\t#T.Resize(image_size,  interpolation=T.InterpolationMode.BILINEAR),\n",
    "        \n",
    "        T.ToTensor(),\n",
    "        T.Normalize(mean=MEAN, std=STD)\n",
    "    ])\n"
   ]
  },
  {
   "cell_type": "code",
   "execution_count": 19,
   "id": "99624bcd-9255-478f-ae49-03f27ee2496f",
   "metadata": {},
   "outputs": [],
   "source": [
    "from dataloaders.val.EssexDataset import EssexDataset"
   ]
  },
  {
   "cell_type": "code",
   "execution_count": 20,
   "id": "dc01629a-1fcc-48c8-b4d4-70038af9d78f",
   "metadata": {},
   "outputs": [],
   "source": [
    "def get_val_dataset(dataset_name, input_transform=input_transform()):\n",
    "    dataset_name = dataset_name.lower()\n",
    "    \n",
    "    if 'cross' in dataset_name:\n",
    "        ds = CrossSeasonDataset(input_transform = input_transform)\n",
    "    \n",
    "    elif 'essex' in dataset_name:\n",
    "        ds = EssexDataset(input_transform = input_transform)\n",
    "    \n",
    "    elif 'inria' in dataset_name:    \n",
    "        ds = InriaDataset(input_transform = input_transform)\n",
    "    \n",
    "    elif 'nordland' in dataset_name:    \n",
    "        ds = NordlandDataset(input_transform = input_transform)\n",
    "    \n",
    "    elif 'sped' in dataset_name:\n",
    "        ds = SPEDDataset(input_transform = input_transform)\n",
    "    \n",
    "    elif 'msls' in dataset_name:\n",
    "        ds = MSLS(input_transform = input_transform)\n",
    "\n",
    "    elif 'pitts' in dataset_name:\n",
    "        ds = PittsburghDataset(which_ds=dataset_name, input_transform = input_transform)\n",
    "    else:\n",
    "        raise ValueError\n",
    "    \n",
    "    num_references = ds.num_references\n",
    "    num_queries = ds.num_queries\n",
    "    ground_truth = ds.ground_truth\n",
    "    return ds, num_references, num_queries, ground_truth"
   ]
  },
  {
   "cell_type": "code",
   "execution_count": 21,
   "id": "5a989ab2-aec5-410a-a793-0118e6587a26",
   "metadata": {},
   "outputs": [],
   "source": [
    "def get_descriptors(model, dataloader, device):\n",
    "    descriptors = []\n",
    "    with torch.no_grad():\n",
    "        for batch in tqdm(dataloader, 'Calculating descritptors...'):\n",
    "            imgs, labels = batch\n",
    "            output= model(imgs.to(device))[0].cpu()\n",
    "            descriptors.append(output)\n",
    "\n",
    "    return torch.cat(descriptors)"
   ]
  },
  {
   "cell_type": "code",
   "execution_count": 22,
   "id": "2746d0d0-a1c1-421d-a574-13c5ce8caceb",
   "metadata": {},
   "outputs": [
    {
     "name": "stdout",
     "output_type": "stream",
     "text": [
      "cuda:0\n"
     ]
    }
   ],
   "source": [
    "device = torch.device(\"cuda:0\" if torch.cuda.is_available() else \"cpu\")\n",
    "print(device)"
   ]
  },
  {
   "cell_type": "code",
   "execution_count": null,
   "id": "1b2616a5-c92c-446d-b9e7-5ac088513425",
   "metadata": {},
   "outputs": [],
   "source": []
  },
  {
   "cell_type": "code",
   "execution_count": 23,
   "id": "1ca8743f-d37d-4508-a210-ffa56a06f0eb",
   "metadata": {},
   "outputs": [
    {
     "name": "stderr",
     "output_type": "stream",
     "text": [
      "Using cache found in /home/sunveil/.cache/torch/hub/facebookresearch_dinov2_main\n",
      "/home/sunveil/.cache/torch/hub/facebookresearch_dinov2_main/dinov2/layers/swiglu_ffn.py:43: UserWarning: xFormers is available (SwiGLU)\n",
      "  warnings.warn(\"xFormers is available (SwiGLU)\")\n",
      "/home/sunveil/.cache/torch/hub/facebookresearch_dinov2_main/dinov2/layers/attention.py:27: UserWarning: xFormers is available (Attention)\n",
      "  warnings.warn(\"xFormers is available (Attention)\")\n",
      "/home/sunveil/.cache/torch/hub/facebookresearch_dinov2_main/dinov2/layers/block.py:33: UserWarning: xFormers is available (Block)\n",
      "  warnings.warn(\"xFormers is available (Block)\")\n"
     ]
    }
   ],
   "source": [
    "model = VPRModel(backbone_arch='dinov2', \n",
    "                 normalize = True,\n",
    "                 agg_arch='boq',\n",
    "                 agg_config={'in_channels': 768,  # make sure the backbone has out_channels attribute\n",
    "                            'proj_channels':384,\n",
    "                            'num_queries' : 64,\n",
    "                           'num_layers' : 2,\n",
    "                            'row_dim' : 12288//384}\n",
    "                )"
   ]
  },
  {
   "cell_type": "code",
   "execution_count": 25,
   "id": "9496c63e-7c72-4f43-8f98-7ccae1860332",
   "metadata": {},
   "outputs": [
    {
     "name": "stderr",
     "output_type": "stream",
     "text": [
      "/tmp/ipykernel_3082467/1435110587.py:1: FutureWarning: You are using `torch.load` with `weights_only=False` (the current default value), which uses the default pickle module implicitly. It is possible to construct malicious pickle data which will execute arbitrary code during unpickling (See https://github.com/pytorch/pytorch/blob/main/SECURITY.md#untrusted-models for more details). In a future release, the default value for `weights_only` will be flipped to `True`. This limits the functions that could be executed during unpickling. Arbitrary objects will no longer be allowed to be loaded via this mode unless they are explicitly allowlisted by the user via `torch.serialization.add_safe_globals`. We recommend you start setting `weights_only=True` for any use case where you don't have full control of the loaded file. Please open an issue on GitHub for any issues related to this experimental feature.\n",
      "  state_dict = torch.load('/media/sunveil/Data/header_detection/poddubnyy/postgraduate/VPR/Bag-of-Queries/dinov2_12288.pth') # link to the trained weights\n"
     ]
    }
   ],
   "source": [
    "state_dict = torch.load('/media/sunveil/Data/header_detection/poddubnyy/postgraduate/VPR/Bag-of-Queries/dinov2_12288.pth') # link to the trained weights\n",
    "model.load_state_dict(state_dict)\n",
    "# model.load_state_dict(state_dict['state_dict'])\n",
    "model.eval()\n",
    "model = model.to(device)\n"
   ]
  },
  {
   "cell_type": "code",
   "execution_count": 26,
   "id": "178959d4-4d41-4732-8aa1-7da2c2ecea64",
   "metadata": {},
   "outputs": [
    {
     "data": {
      "application/vnd.jupyter.widget-view+json": {
       "model_id": "4ba22c3bc329489b8b6b41cb510eeaa8",
       "version_major": 2,
       "version_minor": 0
      },
      "text/plain": [
       "Calculating descritptors...:   0%|          | 0/42 [00:00<?, ?it/s]"
      ]
     },
     "metadata": {},
     "output_type": "display_data"
    },
    {
     "name": "stdout",
     "output_type": "stream",
     "text": [
      "Descriptor dimension 12288\n",
      "\n",
      "\n",
      "+-----------------------------------+\n",
      "|        Performance on essex       |\n",
      "+----------+-------+-------+--------+\n",
      "|    K     |   1   |   5   |   10   |\n",
      "+----------+-------+-------+--------+\n",
      "| Recall@K | 90.95 | 99.52 | 100.00 |\n",
      "+----------+-------+-------+--------+\n"
     ]
    }
   ],
   "source": [
    "val_dataset_name = 'essex'\n",
    "batch_size = 10\n",
    "\n",
    "val_dataset, num_references, num_queries, ground_truth = get_val_dataset(val_dataset_name)\n",
    "val_loader = DataLoader(val_dataset, num_workers=4, batch_size=batch_size)\n",
    "\n",
    "descriptors = get_descriptors(model, val_loader, device)\n",
    "print(f'Descriptor dimension {descriptors.shape[1]}')\n",
    "\n",
    "# now we split into references and queries\n",
    "r_list = descriptors[ : num_references].cpu()\n",
    "q_list = descriptors[num_references : ].cpu()\n",
    "recalls_dict, preds = get_validation_recalls(r_list=r_list,\n",
    "                                    q_list=q_list,\n",
    "                                    k_values=[1, 5, 10],\n",
    "                                    gt=ground_truth,\n",
    "                                    print_results=True,\n",
    "                                    dataset_name=val_dataset_name,\n",
    "                                    )\n"
   ]
  },
  {
   "cell_type": "code",
   "execution_count": 27,
   "id": "838d9a0a-ed46-40fd-bb40-277f9b949722",
   "metadata": {},
   "outputs": [
    {
     "data": {
      "text/plain": [
       "420"
      ]
     },
     "execution_count": 27,
     "metadata": {},
     "output_type": "execute_result"
    }
   ],
   "source": [
    "len(val_dataset)"
   ]
  },
  {
   "cell_type": "markdown",
   "id": "f72f9379-ef8b-47a0-a929-d66691aa2e5e",
   "metadata": {},
   "source": [
    "Датасет  Essex3in1 объем тестовой выборки 420 изображений\n",
    "\n",
    "Этот набор данных сопровождает нашу работу под названием «Запоминающиеся карты: A Framework for Re-defining Places in Visual Place Recognition». PDF-файл этой работы можно найти на сайте (https://arxiv.org/abs/1811.03529).\n",
    "\n",
    "В отличие от существующих наборов данных VPR, в которых представлены либо вариации точек зрения, либо условные вариации, ESSEX3IN1 - это первый набор данных, состоящий из изображений мест, которые являются запутанными как для VPR, так и для человеческого распознавания. Он содержит запутанные и сложные динамические объекты, естественные сцены и малоинформативные кадры. Как показано в нашей статье, большинство современных методов VPR с трудом справляются с этими запутанными изображениями.\n",
    "\n",
    "Набор данных разделен на 2 папки. Соответствие между кадрами применяется к кадрам запроса и опорным кадрам. Изображения 0-132 в каждой папке являются запутанными, а изображения 133-209 - хорошими кадрами.\n",
    "\n",
    "omposed of images from\n",
    "indoor, outdoor and natural scenes"
   ]
  },
  {
   "cell_type": "code",
   "execution_count": null,
   "id": "95331a86-c8e9-494f-a7bc-f2ccabdff58d",
   "metadata": {},
   "outputs": [],
   "source": []
  }
 ],
 "metadata": {
  "kernelspec": {
   "display_name": "Python (boq_cernal)",
   "language": "python",
   "name": "boq"
  },
  "language_info": {
   "codemirror_mode": {
    "name": "ipython",
    "version": 3
   },
   "file_extension": ".py",
   "mimetype": "text/x-python",
   "name": "python",
   "nbconvert_exporter": "python",
   "pygments_lexer": "ipython3",
   "version": "3.12.9"
  }
 },
 "nbformat": 4,
 "nbformat_minor": 5
}
