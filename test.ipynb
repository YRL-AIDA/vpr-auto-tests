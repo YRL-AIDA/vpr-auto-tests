{
 "cells": [
  {
   "cell_type": "code",
   "execution_count": null,
   "id": "c102302e-987c-45b7-b6b8-098092a789d2",
   "metadata": {},
   "outputs": [],
   "source": [
    "pip install prettytable"
   ]
  },
  {
   "cell_type": "code",
   "execution_count": null,
   "id": "b3b5fdf8-cfd8-4895-9910-358d0a2e6ff3",
   "metadata": {},
   "outputs": [],
   "source": [
    "pip install timm"
   ]
  },
  {
   "cell_type": "code",
   "execution_count": null,
   "id": "88d9f899-8478-4e69-8bf1-ec18374fb0ad",
   "metadata": {},
   "outputs": [],
   "source": [
    "pip install ipywidgets"
   ]
  },
  {
   "cell_type": "code",
   "execution_count": 3,
   "id": "e90acf0b-2674-4135-ac9e-94f7b51ac0af",
   "metadata": {},
   "outputs": [],
   "source": [
    "import sys\n",
    "#sys.path.append('..') # append parent directory, we need it\n",
    "import pytorch_lightning as pl\n",
    "from pytorch_lightning.callbacks import ModelCheckpoint\n",
    "from torch.optim import lr_scheduler\n",
    "import utils\n",
    "\n",
    "import torch\n",
    "from torch.utils.data import Dataset, DataLoader\n",
    "import torchvision.transforms as T\n",
    "import matplotlib.pyplot as plt\n",
    "import numpy as np\n",
    "from tqdm.notebook import tqdm\n",
    "from utils.validation import get_validation_recalls\n",
    "from models import helper\n"
   ]
  },
  {
   "cell_type": "code",
   "execution_count": 5,
   "id": "0cc4f674-4ad6-493b-8cff-445dd9b83baa",
   "metadata": {},
   "outputs": [
    {
     "data": {
      "text/plain": [
       "['/home/sunveil/anaconda3/envs/boq/lib/python312.zip',\n",
       " '/home/sunveil/anaconda3/envs/boq/lib/python3.12',\n",
       " '/home/sunveil/anaconda3/envs/boq/lib/python3.12/lib-dynload',\n",
       " '',\n",
       " '/home/sunveil/anaconda3/envs/boq/lib/python3.12/site-packages',\n",
       " '..',\n",
       " '/home/sunveil/anaconda3/envs/boq/lib/python3.12/site-packages/setuptools/_vendor',\n",
       " '/tmp/tmp26nlz7kf']"
      ]
     },
     "execution_count": 5,
     "metadata": {},
     "output_type": "execute_result"
    }
   ],
   "source": [
    "sys.path"
   ]
  },
  {
   "cell_type": "code",
   "execution_count": 6,
   "id": "48e71562-f843-4c00-b9b4-d843cc4bcf2b",
   "metadata": {},
   "outputs": [],
   "source": [
    "import models"
   ]
  },
  {
   "cell_type": "code",
   "execution_count": 7,
   "id": "6a694a76-e64a-4057-beb9-c87a576fa609",
   "metadata": {},
   "outputs": [
    {
     "ename": "AttributeError",
     "evalue": "module 'models' has no attribute 'helper'",
     "output_type": "error",
     "traceback": [
      "\u001b[0;31m---------------------------------------------------------------------------\u001b[0m",
      "\u001b[0;31mAttributeError\u001b[0m                            Traceback (most recent call last)",
      "Cell \u001b[0;32mIn[7], line 1\u001b[0m\n\u001b[0;32m----> 1\u001b[0m models\u001b[38;5;241m.\u001b[39mhelper\n",
      "\u001b[0;31mAttributeError\u001b[0m: module 'models' has no attribute 'helper'"
     ]
    }
   ],
   "source": []
  },
  {
   "cell_type": "code",
   "execution_count": 4,
   "id": "30bbba1e-359a-44d5-928f-1f03d704e18e",
   "metadata": {},
   "outputs": [],
   "source": [
    "\n",
    "\n",
    "class VPRModel(pl.LightningModule):\n",
    "    \"\"\"This is the main model for Visual Place Recognition\n",
    "    we use Pytorch Lightning for modularity purposes.\n",
    "    \"\"\"\n",
    "\n",
    "    def __init__(self,\n",
    "                #---- Backbone\n",
    "                backbone_arch='resnet50',\n",
    "                pretrained=True,\n",
    "                layers_to_freeze=1,\n",
    "                layers_to_crop=[],\n",
    "                normalize = True,\n",
    "                 \n",
    "                #---- Aggregator\n",
    "                agg_arch='ConvAP', #CosPlace, NetVLAD, GeM, AVG\n",
    "                agg_config={},\n",
    "                \n",
    "                #---- Train hyperparameters\n",
    "                lr=0.03, \n",
    "                optimizer='sgd',\n",
    "                weight_decay=1e-3,\n",
    "                momentum=0.9,\n",
    "                warmpup_steps=500,\n",
    "                milestones=[5, 10, 15],\n",
    "                lr_mult=0.3,\n",
    "                \n",
    "                #----- Loss\n",
    "                loss_name='MultiSimilarityLoss', \n",
    "                miner_name='MultiSimilarityMiner', \n",
    "                miner_margin=0.1,\n",
    "                faiss_gpu=False\n",
    "                 ):\n",
    "        super().__init__()\n",
    "        self.encoder_arch = backbone_arch\n",
    "        self.pretrained = pretrained\n",
    "        self.layers_to_freeze = layers_to_freeze\n",
    "        self.layers_to_crop = layers_to_crop\n",
    "\n",
    "        self.agg_arch = agg_arch\n",
    "        self.agg_config = agg_config\n",
    "\n",
    "        self.lr = lr\n",
    "        self.optimizer = optimizer\n",
    "        self.weight_decay = weight_decay\n",
    "        self.momentum = momentum\n",
    "        self.warmpup_steps = warmpup_steps\n",
    "        self.milestones = milestones\n",
    "        self.lr_mult = lr_mult\n",
    "\n",
    "        self.loss_name = loss_name\n",
    "        self.miner_name = miner_name\n",
    "        self.miner_margin = miner_margin\n",
    "        \n",
    "        self.save_hyperparameters() # write hyperparams into a file\n",
    "        \n",
    "        self.loss_fn = utils.get_loss(loss_name)\n",
    "        self.miner = utils.get_miner(miner_name, miner_margin)\n",
    "        self.batch_acc = [] # we will keep track of the % of trivial pairs/triplets at the loss level \n",
    "\n",
    "        self.faiss_gpu = faiss_gpu\n",
    "        \n",
    "        # ----------------------------------\n",
    "        # get the backbone and the aggregator\n",
    "        self.backbone = helper.get_backbone(backbone_arch, pretrained, layers_to_freeze, layers_to_crop, normalize)\n",
    "        self.aggregator = helper.get_aggregator(agg_arch, agg_config)\n",
    "        \n",
    "    # the forward pass of the lightning model\n",
    "    def forward(self, x):\n",
    "        x = self.backbone(x)\n",
    "        x = self.aggregator(x)\n",
    "        return x\n",
    "    \n",
    "    # configure the optimizer \n",
    "    def configure_optimizers(self):\n",
    "        if self.optimizer.lower() == 'sgd':\n",
    "            optimizer = torch.optim.SGD(self.parameters(), \n",
    "                                        lr=self.lr, \n",
    "                                        weight_decay=self.weight_decay, \n",
    "                                        momentum=self.momentum)\n",
    "        elif self.optimizer.lower() == 'adamw':\n",
    "            optimizer = torch.optim.AdamW(self.parameters(), \n",
    "                                        lr=self.lr, \n",
    "                                        weight_decay=self.weight_decay)\n",
    "        elif self.optimizer.lower() == 'adam':\n",
    "            optimizer = torch.optim.AdamW(self.parameters(), \n",
    "                                        lr=self.lr, \n",
    "                                        weight_decay=self.weight_decay)\n",
    "        else:\n",
    "            raise ValueError(f'Optimizer {self.optimizer} has not been added to \"configure_optimizers()\"')\n",
    "        scheduler = lr_scheduler.MultiStepLR(optimizer, milestones=self.milestones, gamma=self.lr_mult)\n",
    "        return [optimizer], [scheduler]\n",
    "    \n",
    "    # configure the optizer step, takes into account the warmup stage\n",
    "    def optimizer_step(self,  epoch, batch_idx,\n",
    "                        optimizer, optimizer_idx, optimizer_closure,\n",
    "                        on_tpu, using_native_amp, using_lbfgs):\n",
    "        # warm up lr\n",
    "        if self.trainer.global_step < self.warmpup_steps:\n",
    "            lr_scale = min(1., float(self.trainer.global_step + 1) / self.warmpup_steps)\n",
    "            for pg in optimizer.param_groups:\n",
    "                pg['lr'] = lr_scale * self.lr\n",
    "        optimizer.step(closure=optimizer_closure)\n",
    "        \n",
    "    #  The loss function call (this method will be called at each training iteration)\n",
    "    def loss_function(self, descriptors, labels):\n",
    "        # we mine the pairs/triplets if there is an online mining strategy\n",
    "        if self.miner is not None:\n",
    "            miner_outputs = self.miner(descriptors, labels)\n",
    "            loss = self.loss_fn(descriptors, labels, miner_outputs)\n",
    "            \n",
    "            # calculate the % of trivial pairs/triplets \n",
    "            # which do not contribute in the loss value\n",
    "            nb_samples = descriptors.shape[0]\n",
    "            nb_mined = len(set(miner_outputs[0].detach().cpu().numpy()))\n",
    "            batch_acc = 1.0 - (nb_mined/nb_samples)\n",
    "\n",
    "        else: # no online mining\n",
    "            loss = self.loss_fn(descriptors, labels)\n",
    "            batch_acc = 0.0\n",
    "            if type(loss) == tuple: \n",
    "                # somes losses do the online mining inside (they don't need a miner objet), \n",
    "                # so they return the loss and the batch accuracy\n",
    "                # for example, if you are developping a new loss function, you might be better\n",
    "                # doing the online mining strategy inside the forward function of the loss class, \n",
    "                # and return a tuple containing the loss value and the batch_accuracy (the % of valid pairs or triplets)\n",
    "                loss, batch_acc = loss\n",
    "\n",
    "        # keep accuracy of every batch and later reset it at epoch start\n",
    "        self.batch_acc.append(batch_acc)\n",
    "        # log it\n",
    "        self.log('b_acc', sum(self.batch_acc) /\n",
    "                len(self.batch_acc), prog_bar=True, logger=True)\n",
    "        return loss\n",
    "    \n",
    "    # This is the training step that's executed at each iteration\n",
    "    def training_step(self, batch, batch_idx):\n",
    "        places, labels = batch\n",
    "        \n",
    "        # Note that GSVCities yields places (each containing N images)\n",
    "        # which means the dataloader will return a batch containing BS places\n",
    "        BS, N, ch, h, w = places.shape\n",
    "        \n",
    "        # reshape places and labels\n",
    "        images = places.view(BS*N, ch, h, w)\n",
    "        labels = labels.view(-1)\n",
    "\n",
    "        # Feed forward the batch to the model\n",
    "        descriptors = self(images) # Here we are calling the method forward that we defined above\n",
    "        loss = self.loss_function(descriptors, labels) # Call the loss_function we defined above\n",
    "        \n",
    "        self.log('loss', loss.item(), logger=True)\n",
    "        return {'loss': loss}\n",
    "    \n",
    "    # This is called at the end of eatch training epoch\n",
    "    def training_epoch_end(self, training_step_outputs):\n",
    "        # we empty the batch_acc list for next epoch\n",
    "        self.batch_acc = []\n",
    "\n",
    "    # For validation, we will also iterate step by step over the validation set\n",
    "    # this is the way Pytorch Lghtning is made. All about modularity, folks.\n",
    "    def validation_step(self, batch, batch_idx, dataloader_idx=None):\n",
    "        places, _ = batch\n",
    "        # calculate descriptors\n",
    "        descriptors = self(places)\n",
    "        return descriptors.detach().cpu()\n",
    "    \n",
    "    def validation_epoch_end(self, val_step_outputs):\n",
    "        \"\"\"at the end of each validation epoch\n",
    "        descriptors are returned in their order\n",
    "        depending on how the validation dataset is implemented \n",
    "        for this project (MSLS val, Pittburg val), it is always references then queries.\n",
    "        For example, if we have n references and m queries, we will get \n",
    "        the descriptors for each val_dataset in a list as follows: \n",
    "        [R1, R2, ..., Rn, Q1, Q2, ..., Qm]\n",
    "        we then split it to references=[R1, R2, ..., Rn] and queries=[Q1, Q2, ..., Qm]\n",
    "        to calculate recall@K using the ground truth provided.\n",
    "        \"\"\"\n",
    "        dm = self.trainer.datamodule\n",
    "        # The following line is a hack: if we have only one validation set, then\n",
    "        # we need to put the outputs in a list (Pytorch Lightning does not do it presently)\n",
    "        if len(dm.val_datasets)==1: # we need to put the outputs in a list\n",
    "            val_step_outputs = [val_step_outputs]\n",
    "        \n",
    "        for i, (val_set_name, val_dataset) in enumerate(zip(dm.val_set_names, dm.val_datasets)):\n",
    "            feats = torch.concat(val_step_outputs[i], dim=0)\n",
    "            \n",
    "            num_references = val_dataset.num_references\n",
    "            num_queries = val_dataset.num_queries\n",
    "            ground_truth = val_dataset.ground_truth\n",
    "            \n",
    "            # split to ref and queries    \n",
    "            r_list = feats[ : num_references]\n",
    "            q_list = feats[num_references : ]\n",
    "\n",
    "            recalls_dict, predictions = utils.get_validation_recalls(r_list=r_list, \n",
    "                                                q_list=q_list,\n",
    "                                                k_values=[1, 5, 10, 15, 20, 25],\n",
    "                                                gt=ground_truth,\n",
    "                                                print_results=True,\n",
    "                                                dataset_name=val_set_name,\n",
    "                                                faiss_gpu=self.faiss_gpu\n",
    "                                                )\n",
    "            del r_list, q_list, feats, num_references, ground_truth\n",
    "\n",
    "            self.log(f'{val_set_name}/R1', recalls_dict[1], prog_bar=False, logger=True)\n",
    "            self.log(f'{val_set_name}/R5', recalls_dict[5], prog_bar=False, logger=True)\n",
    "            self.log(f'{val_set_name}/R10', recalls_dict[10], prog_bar=False, logger=True)\n",
    "        print('\\n\\n')\n",
    "            "
   ]
  },
  {
   "cell_type": "code",
   "execution_count": 5,
   "id": "1c0862e2-e4a0-4622-9b66-b33a8d59887b",
   "metadata": {},
   "outputs": [],
   "source": [
    "MEAN=[0.485, 0.456, 0.406]; STD=[0.229, 0.224, 0.225]\n",
    "\n",
    "IM_SIZE = (322, 322)\n",
    "\n",
    "def input_transform(image_size=IM_SIZE):\n",
    "    return T.Compose([\n",
    "         T.Resize(image_size, interpolation=T.InterpolationMode.BICUBIC),\n",
    "\t\t#T.Resize(image_size,  interpolation=T.InterpolationMode.BILINEAR),\n",
    "        \n",
    "        T.ToTensor(),\n",
    "        T.Normalize(mean=MEAN, std=STD)\n",
    "    ])\n"
   ]
  },
  {
   "cell_type": "code",
   "execution_count": 6,
   "id": "99624bcd-9255-478f-ae49-03f27ee2496f",
   "metadata": {},
   "outputs": [],
   "source": [
    "from dataloaders.val.EssexDataset import EssexDataset"
   ]
  },
  {
   "cell_type": "code",
   "execution_count": 7,
   "id": "dc01629a-1fcc-48c8-b4d4-70038af9d78f",
   "metadata": {},
   "outputs": [],
   "source": [
    "def get_val_dataset(dataset_name, input_transform=input_transform()):\n",
    "    dataset_name = dataset_name.lower()\n",
    "    \n",
    "    if 'cross' in dataset_name:\n",
    "        ds = CrossSeasonDataset(input_transform = input_transform)\n",
    "    \n",
    "    elif 'essex' in dataset_name:\n",
    "        ds = EssexDataset(input_transform = input_transform)\n",
    "    \n",
    "    elif 'inria' in dataset_name:    \n",
    "        ds = InriaDataset(input_transform = input_transform)\n",
    "    \n",
    "    elif 'nordland' in dataset_name:    \n",
    "        ds = NordlandDataset(input_transform = input_transform)\n",
    "    \n",
    "    elif 'sped' in dataset_name:\n",
    "        ds = SPEDDataset(input_transform = input_transform)\n",
    "    \n",
    "    elif 'msls' in dataset_name:\n",
    "        ds = MSLS(input_transform = input_transform)\n",
    "\n",
    "    elif 'pitts' in dataset_name:\n",
    "        ds = PittsburghDataset(which_ds=dataset_name, input_transform = input_transform)\n",
    "    else:\n",
    "        raise ValueError\n",
    "    \n",
    "    num_references = ds.num_references\n",
    "    num_queries = ds.num_queries\n",
    "    ground_truth = ds.ground_truth\n",
    "    return ds, num_references, num_queries, ground_truth"
   ]
  },
  {
   "cell_type": "code",
   "execution_count": 15,
   "id": "5a989ab2-aec5-410a-a793-0118e6587a26",
   "metadata": {},
   "outputs": [],
   "source": [
    "def get_descriptors(model, dataloader, device):\n",
    "    descriptors = []\n",
    "    with torch.no_grad():\n",
    "        for batch in tqdm(dataloader, 'Calculating descritptors...'):\n",
    "            imgs, labels = batch\n",
    "            output= model(imgs.to(device))[0].cpu()\n",
    "            descriptors.append(output)\n",
    "\n",
    "    return torch.cat(descriptors)"
   ]
  },
  {
   "cell_type": "code",
   "execution_count": 9,
   "id": "2746d0d0-a1c1-421d-a574-13c5ce8caceb",
   "metadata": {},
   "outputs": [
    {
     "name": "stdout",
     "output_type": "stream",
     "text": [
      "cuda:0\n"
     ]
    }
   ],
   "source": [
    "device = torch.device(\"cuda:0\" if torch.cuda.is_available() else \"cpu\")\n",
    "print(device)"
   ]
  },
  {
   "cell_type": "code",
   "execution_count": null,
   "id": "1b2616a5-c92c-446d-b9e7-5ac088513425",
   "metadata": {},
   "outputs": [],
   "source": []
  },
  {
   "cell_type": "code",
   "execution_count": 10,
   "id": "1ca8743f-d37d-4508-a210-ffa56a06f0eb",
   "metadata": {},
   "outputs": [
    {
     "name": "stderr",
     "output_type": "stream",
     "text": [
      "Using cache found in /home/sunveil/.cache/torch/hub/facebookresearch_dinov2_main\n",
      "/home/sunveil/.cache/torch/hub/facebookresearch_dinov2_main/dinov2/layers/swiglu_ffn.py:43: UserWarning: xFormers is available (SwiGLU)\n",
      "  warnings.warn(\"xFormers is available (SwiGLU)\")\n",
      "/home/sunveil/.cache/torch/hub/facebookresearch_dinov2_main/dinov2/layers/attention.py:27: UserWarning: xFormers is available (Attention)\n",
      "  warnings.warn(\"xFormers is available (Attention)\")\n",
      "/home/sunveil/.cache/torch/hub/facebookresearch_dinov2_main/dinov2/layers/block.py:33: UserWarning: xFormers is available (Block)\n",
      "  warnings.warn(\"xFormers is available (Block)\")\n"
     ]
    }
   ],
   "source": [
    "model = VPRModel(backbone_arch='dinov2', \n",
    "                 normalize = True,\n",
    "                 agg_arch='boq',\n",
    "                 agg_config={'in_channels': 768,  # make sure the backbone has out_channels attribute\n",
    "                            'proj_channels':384,\n",
    "                            'num_queries' : 64,\n",
    "                           'num_layers' : 2,\n",
    "                            'row_dim' : 12288//384}\n",
    "                )"
   ]
  },
  {
   "cell_type": "code",
   "execution_count": 11,
   "id": "9496c63e-7c72-4f43-8f98-7ccae1860332",
   "metadata": {},
   "outputs": [
    {
     "name": "stderr",
     "output_type": "stream",
     "text": [
      "/tmp/ipykernel_601706/1435110587.py:1: FutureWarning: You are using `torch.load` with `weights_only=False` (the current default value), which uses the default pickle module implicitly. It is possible to construct malicious pickle data which will execute arbitrary code during unpickling (See https://github.com/pytorch/pytorch/blob/main/SECURITY.md#untrusted-models for more details). In a future release, the default value for `weights_only` will be flipped to `True`. This limits the functions that could be executed during unpickling. Arbitrary objects will no longer be allowed to be loaded via this mode unless they are explicitly allowlisted by the user via `torch.serialization.add_safe_globals`. We recommend you start setting `weights_only=True` for any use case where you don't have full control of the loaded file. Please open an issue on GitHub for any issues related to this experimental feature.\n",
      "  state_dict = torch.load('/media/sunveil/Data/header_detection/poddubnyy/postgraduate/VPR/Bag-of-Queries/dinov2_12288.pth') # link to the trained weights\n"
     ]
    }
   ],
   "source": [
    "state_dict = torch.load('/media/sunveil/Data/header_detection/poddubnyy/postgraduate/VPR/Bag-of-Queries/dinov2_12288.pth') # link to the trained weights\n",
    "model.load_state_dict(state_dict)\n",
    "# model.load_state_dict(state_dict['state_dict'])\n",
    "model.eval()\n",
    "model = model.to(device)\n"
   ]
  },
  {
   "cell_type": "code",
   "execution_count": 16,
   "id": "178959d4-4d41-4732-8aa1-7da2c2ecea64",
   "metadata": {},
   "outputs": [
    {
     "data": {
      "application/vnd.jupyter.widget-view+json": {
       "model_id": "69b39c5e64b7445da12703f82c80f75e",
       "version_major": 2,
       "version_minor": 0
      },
      "text/plain": [
       "Calculating descritptors...:   0%|          | 0/42 [00:00<?, ?it/s]"
      ]
     },
     "metadata": {},
     "output_type": "display_data"
    },
    {
     "name": "stdout",
     "output_type": "stream",
     "text": [
      "Descriptor dimension 12288\n",
      "\n",
      "\n",
      "+-----------------------------------+\n",
      "|        Performance on essex       |\n",
      "+----------+-------+-------+--------+\n",
      "|    K     |   1   |   5   |   10   |\n",
      "+----------+-------+-------+--------+\n",
      "| Recall@K | 90.95 | 99.52 | 100.00 |\n",
      "+----------+-------+-------+--------+\n"
     ]
    }
   ],
   "source": [
    "val_dataset_name = 'essex'\n",
    "batch_size = 10\n",
    "\n",
    "val_dataset, num_references, num_queries, ground_truth = get_val_dataset(val_dataset_name)\n",
    "val_loader = DataLoader(val_dataset, num_workers=4, batch_size=batch_size)\n",
    "\n",
    "descriptors = get_descriptors(model, val_loader, device)\n",
    "print(f'Descriptor dimension {descriptors.shape[1]}')\n",
    "\n",
    "# now we split into references and queries\n",
    "r_list = descriptors[ : num_references].cpu()\n",
    "q_list = descriptors[num_references : ].cpu()\n",
    "recalls_dict, preds = get_validation_recalls(r_list=r_list,\n",
    "                                    q_list=q_list,\n",
    "                                    k_values=[1, 5, 10],\n",
    "                                    gt=ground_truth,\n",
    "                                    print_results=True,\n",
    "                                    dataset_name=val_dataset_name,\n",
    "                                    )\n"
   ]
  },
  {
   "cell_type": "code",
   "execution_count": 18,
   "id": "838d9a0a-ed46-40fd-bb40-277f9b949722",
   "metadata": {},
   "outputs": [
    {
     "data": {
      "text/plain": [
       "420"
      ]
     },
     "execution_count": 18,
     "metadata": {},
     "output_type": "execute_result"
    }
   ],
   "source": [
    "len(val_dataset)"
   ]
  },
  {
   "cell_type": "markdown",
   "id": "f72f9379-ef8b-47a0-a929-d66691aa2e5e",
   "metadata": {},
   "source": [
    "Датасет  Essex3in1 объем тестовой выборки 420 изображений\n",
    "\n",
    "Этот набор данных сопровождает нашу работу под названием «Запоминающиеся карты: A Framework for Re-defining Places in Visual Place Recognition». PDF-файл этой работы можно найти на сайте (https://arxiv.org/abs/1811.03529).\n",
    "\n",
    "В отличие от существующих наборов данных VPR, в которых представлены либо вариации точек зрения, либо условные вариации, ESSEX3IN1 - это первый набор данных, состоящий из изображений мест, которые являются запутанными как для VPR, так и для человеческого распознавания. Он содержит запутанные и сложные динамические объекты, естественные сцены и малоинформативные кадры. Как показано в нашей статье, большинство современных методов VPR с трудом справляются с этими запутанными изображениями.\n",
    "\n",
    "Набор данных разделен на 2 папки. Соответствие между кадрами применяется к кадрам запроса и опорным кадрам. Изображения 0-132 в каждой папке являются запутанными, а изображения 133-209 - хорошими кадрами.\n",
    "\n",
    "omposed of images from\n",
    "indoor, outdoor and natural scenes"
   ]
  },
  {
   "cell_type": "code",
   "execution_count": null,
   "id": "95331a86-c8e9-494f-a7bc-f2ccabdff58d",
   "metadata": {},
   "outputs": [],
   "source": []
  }
 ],
 "metadata": {
  "kernelspec": {
   "display_name": "Python (boq_cernal)",
   "language": "python",
   "name": "boq"
  },
  "language_info": {
   "codemirror_mode": {
    "name": "ipython",
    "version": 3
   },
   "file_extension": ".py",
   "mimetype": "text/x-python",
   "name": "python",
   "nbconvert_exporter": "python",
   "pygments_lexer": "ipython3",
   "version": "3.12.9"
  }
 },
 "nbformat": 4,
 "nbformat_minor": 5
}
